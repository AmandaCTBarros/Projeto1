{
 "cells": [
  {
   "cell_type": "code",
   "execution_count": null,
   "id": "c8e313c2",
   "metadata": {},
   "outputs": [],
   "source": [
    "import random\n",
    "\n",
    "# Definindo a lista de palavras possíveis\n",
    "palavras = ['banana', 'computador', 'elefante', 'girafa', 'programacao', 'python']\n",
    "\n",
    "# Selecionando uma palavra aleatória da lista\n",
    "palavra_secreta = random.choice(palavras)\n",
    "\n",
    "# Inicializando as variáveis do jogo\n",
    "letras_erradas = []\n",
    "letras_corretas = []\n",
    "tentativas = 6\n",
    "\n",
    "# Loop principal do jogo\n",
    "while True:\n",
    "    # Mostrando a palavra com as letras adivinhadas até agora\n",
    "    palavra_atual = ''\n",
    "    for letra in palavra_secreta:\n",
    "        if letra in letras_corretas:\n",
    "            palavra_atual += letra + ' '\n",
    "        else:\n",
    "            palavra_atual += '_ '\n",
    "    print('Palavra:', palavra_atual)\n",
    "\n",
    "    # Solicitando uma nova letra do usuário\n",
    "    letra = input('Digite uma letra: ').lower()\n",
    "\n",
    "    # Verificando se a letra já foi escolhida antes\n",
    "    if letra in letras_corretas or letra in letras_erradas:\n",
    "        print('Você já escolheu essa letra. Tente novamente.')\n",
    "    # Verificando se a letra está na palavra secreta\n",
    "    elif letra in palavra_secreta:\n",
    "        letras_corretas.append(letra)\n",
    "        print('A letra', letra, 'está na palavra!')\n",
    "    # Se a letra não estiver na palavra secreta\n",
    "    else:\n",
    "        letras_erradas.append(letra)\n",
    "        tentativas -= 1\n",
    "        print('A letra', letra, 'não está na palavra. Você tem', tentativas, 'tentativas restantes.')\n",
    "\n",
    "    # Verificando se o jogo terminou\n",
    "    if tentativas == 0:\n",
    "        print('Você perdeu! A palavra era', palavra_secreta)\n",
    "        break\n",
    "    elif set(palavra_secreta) == set(letras_corretas):\n",
    "        print('Parabéns, você ganhou! A palavra era', palavra_secreta)\n",
    "        break\n"
   ]
  },
  {
   "cell_type": "code",
   "execution_count": null,
   "id": "0e21c150",
   "metadata": {},
   "outputs": [],
   "source": []
  },
  {
   "cell_type": "code",
   "execution_count": null,
   "id": "c4b2d59b",
   "metadata": {},
   "outputs": [],
   "source": []
  },
  {
   "cell_type": "code",
   "execution_count": null,
   "id": "6ce53260",
   "metadata": {},
   "outputs": [],
   "source": []
  },
  {
   "cell_type": "code",
   "execution_count": null,
   "id": "f8b969d8",
   "metadata": {},
   "outputs": [],
   "source": []
  }
 ],
 "metadata": {
  "kernelspec": {
   "display_name": "Python 3 (ipykernel)",
   "language": "python",
   "name": "python3"
  },
  "language_info": {
   "codemirror_mode": {
    "name": "ipython",
    "version": 3
   },
   "file_extension": ".py",
   "mimetype": "text/x-python",
   "name": "python",
   "nbconvert_exporter": "python",
   "pygments_lexer": "ipython3",
   "version": "3.10.9"
  }
 },
 "nbformat": 4,
 "nbformat_minor": 5
}
